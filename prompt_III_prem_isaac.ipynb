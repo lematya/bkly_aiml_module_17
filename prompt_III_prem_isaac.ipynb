{
  "cells": [
    {
      "cell_type": "markdown",
      "metadata": {
        "id": "itZpqhI1aBYz"
      },
      "source": [
        "# Practical Application III: Comparing Classifiers\n",
        "\n",
        "**Overview**: In this practical application, your goal is to compare the performance of the classifiers we encountered in this section, namely K Nearest Neighbor, Logistic Regression, Decision Trees, and Support Vector Machines.  We will utilize a dataset related to marketing bank products over the telephone.  \n",
        "\n"
      ]
    },
    {
      "cell_type": "markdown",
      "metadata": {
        "id": "iA9TdlRbaBY_"
      },
      "source": [
        "### Getting Started\n",
        "\n",
        "Our dataset comes from the UCI Machine Learning repository [link](https://archive.ics.uci.edu/ml/datasets/bank+marketing).  The data is from a Portugese banking institution and is a collection of the results of multiple marketing campaigns.  We will make use of the article accompanying the dataset [here](CRISP-DM-BANK.pdf) for more information on the data and features.\n",
        "\n"
      ]
    },
    {
      "cell_type": "markdown",
      "metadata": {
        "id": "nEYiqwzvaBZC"
      },
      "source": [
        "### Problem 1: Understanding the Data\n",
        "\n",
        "To gain a better understanding of the data, please read the information provided in the UCI link above, and examine the **Materials and Methods** section of the paper.  How many marketing campaigns does this data represent?"
      ]
    },
    {
      "cell_type": "markdown",
      "source": [
        "This data represents multiple marketing campaigns spanning a period of 5 years, from May 2008 to June 2013"
      ],
      "metadata": {
        "id": "YQlVRLPuiqV8"
      }
    },
    {
      "cell_type": "code",
      "execution_count": null,
      "metadata": {
        "id": "qMYQweM4aBZD"
      },
      "outputs": [],
      "source": []
    },
    {
      "cell_type": "markdown",
      "metadata": {
        "id": "86JPrU3PaBZE"
      },
      "source": [
        "### Problem 2: Read in the Data\n",
        "\n",
        "Use pandas to read in the dataset `bank-additional-full.csv` and assign to a meaningful variable name."
      ]
    },
    {
      "cell_type": "code",
      "execution_count": 1,
      "metadata": {
        "id": "0kuf4vovaBZI"
      },
      "outputs": [],
      "source": [
        "import pandas as pd"
      ]
    },
    {
      "cell_type": "code",
      "execution_count": 3,
      "metadata": {
        "id": "WVFlBVdxaBZL"
      },
      "outputs": [],
      "source": [
        "df_campaign_outcome = pd.read_csv('sample_data/bank-additional-full.csv', sep = ';')"
      ]
    },
    {
      "cell_type": "code",
      "execution_count": 4,
      "metadata": {
        "colab": {
          "base_uri": "https://localhost:8080/",
          "height": 255
        },
        "id": "I4gt-kXPaBZN",
        "outputId": "cd8288b6-75a3-48b7-e0f1-9ed337a5c566"
      },
      "outputs": [
        {
          "output_type": "execute_result",
          "data": {
            "text/plain": [
              "   age        job  marital    education  default housing loan    contact  \\\n",
              "0   56  housemaid  married     basic.4y       no      no   no  telephone   \n",
              "1   57   services  married  high.school  unknown      no   no  telephone   \n",
              "2   37   services  married  high.school       no     yes   no  telephone   \n",
              "3   40     admin.  married     basic.6y       no      no   no  telephone   \n",
              "4   56   services  married  high.school       no      no  yes  telephone   \n",
              "\n",
              "  month day_of_week  ...  campaign  pdays  previous     poutcome emp.var.rate  \\\n",
              "0   may         mon  ...         1    999         0  nonexistent          1.1   \n",
              "1   may         mon  ...         1    999         0  nonexistent          1.1   \n",
              "2   may         mon  ...         1    999         0  nonexistent          1.1   \n",
              "3   may         mon  ...         1    999         0  nonexistent          1.1   \n",
              "4   may         mon  ...         1    999         0  nonexistent          1.1   \n",
              "\n",
              "   cons.price.idx  cons.conf.idx  euribor3m  nr.employed   y  \n",
              "0          93.994          -36.4      4.857       5191.0  no  \n",
              "1          93.994          -36.4      4.857       5191.0  no  \n",
              "2          93.994          -36.4      4.857       5191.0  no  \n",
              "3          93.994          -36.4      4.857       5191.0  no  \n",
              "4          93.994          -36.4      4.857       5191.0  no  \n",
              "\n",
              "[5 rows x 21 columns]"
            ],
            "text/html": [
              "\n",
              "  <div id=\"df-c2bc1728-fd42-4798-9548-f382a9de7b6e\" class=\"colab-df-container\">\n",
              "    <div>\n",
              "<style scoped>\n",
              "    .dataframe tbody tr th:only-of-type {\n",
              "        vertical-align: middle;\n",
              "    }\n",
              "\n",
              "    .dataframe tbody tr th {\n",
              "        vertical-align: top;\n",
              "    }\n",
              "\n",
              "    .dataframe thead th {\n",
              "        text-align: right;\n",
              "    }\n",
              "</style>\n",
              "<table border=\"1\" class=\"dataframe\">\n",
              "  <thead>\n",
              "    <tr style=\"text-align: right;\">\n",
              "      <th></th>\n",
              "      <th>age</th>\n",
              "      <th>job</th>\n",
              "      <th>marital</th>\n",
              "      <th>education</th>\n",
              "      <th>default</th>\n",
              "      <th>housing</th>\n",
              "      <th>loan</th>\n",
              "      <th>contact</th>\n",
              "      <th>month</th>\n",
              "      <th>day_of_week</th>\n",
              "      <th>...</th>\n",
              "      <th>campaign</th>\n",
              "      <th>pdays</th>\n",
              "      <th>previous</th>\n",
              "      <th>poutcome</th>\n",
              "      <th>emp.var.rate</th>\n",
              "      <th>cons.price.idx</th>\n",
              "      <th>cons.conf.idx</th>\n",
              "      <th>euribor3m</th>\n",
              "      <th>nr.employed</th>\n",
              "      <th>y</th>\n",
              "    </tr>\n",
              "  </thead>\n",
              "  <tbody>\n",
              "    <tr>\n",
              "      <th>0</th>\n",
              "      <td>56</td>\n",
              "      <td>housemaid</td>\n",
              "      <td>married</td>\n",
              "      <td>basic.4y</td>\n",
              "      <td>no</td>\n",
              "      <td>no</td>\n",
              "      <td>no</td>\n",
              "      <td>telephone</td>\n",
              "      <td>may</td>\n",
              "      <td>mon</td>\n",
              "      <td>...</td>\n",
              "      <td>1</td>\n",
              "      <td>999</td>\n",
              "      <td>0</td>\n",
              "      <td>nonexistent</td>\n",
              "      <td>1.1</td>\n",
              "      <td>93.994</td>\n",
              "      <td>-36.4</td>\n",
              "      <td>4.857</td>\n",
              "      <td>5191.0</td>\n",
              "      <td>no</td>\n",
              "    </tr>\n",
              "    <tr>\n",
              "      <th>1</th>\n",
              "      <td>57</td>\n",
              "      <td>services</td>\n",
              "      <td>married</td>\n",
              "      <td>high.school</td>\n",
              "      <td>unknown</td>\n",
              "      <td>no</td>\n",
              "      <td>no</td>\n",
              "      <td>telephone</td>\n",
              "      <td>may</td>\n",
              "      <td>mon</td>\n",
              "      <td>...</td>\n",
              "      <td>1</td>\n",
              "      <td>999</td>\n",
              "      <td>0</td>\n",
              "      <td>nonexistent</td>\n",
              "      <td>1.1</td>\n",
              "      <td>93.994</td>\n",
              "      <td>-36.4</td>\n",
              "      <td>4.857</td>\n",
              "      <td>5191.0</td>\n",
              "      <td>no</td>\n",
              "    </tr>\n",
              "    <tr>\n",
              "      <th>2</th>\n",
              "      <td>37</td>\n",
              "      <td>services</td>\n",
              "      <td>married</td>\n",
              "      <td>high.school</td>\n",
              "      <td>no</td>\n",
              "      <td>yes</td>\n",
              "      <td>no</td>\n",
              "      <td>telephone</td>\n",
              "      <td>may</td>\n",
              "      <td>mon</td>\n",
              "      <td>...</td>\n",
              "      <td>1</td>\n",
              "      <td>999</td>\n",
              "      <td>0</td>\n",
              "      <td>nonexistent</td>\n",
              "      <td>1.1</td>\n",
              "      <td>93.994</td>\n",
              "      <td>-36.4</td>\n",
              "      <td>4.857</td>\n",
              "      <td>5191.0</td>\n",
              "      <td>no</td>\n",
              "    </tr>\n",
              "    <tr>\n",
              "      <th>3</th>\n",
              "      <td>40</td>\n",
              "      <td>admin.</td>\n",
              "      <td>married</td>\n",
              "      <td>basic.6y</td>\n",
              "      <td>no</td>\n",
              "      <td>no</td>\n",
              "      <td>no</td>\n",
              "      <td>telephone</td>\n",
              "      <td>may</td>\n",
              "      <td>mon</td>\n",
              "      <td>...</td>\n",
              "      <td>1</td>\n",
              "      <td>999</td>\n",
              "      <td>0</td>\n",
              "      <td>nonexistent</td>\n",
              "      <td>1.1</td>\n",
              "      <td>93.994</td>\n",
              "      <td>-36.4</td>\n",
              "      <td>4.857</td>\n",
              "      <td>5191.0</td>\n",
              "      <td>no</td>\n",
              "    </tr>\n",
              "    <tr>\n",
              "      <th>4</th>\n",
              "      <td>56</td>\n",
              "      <td>services</td>\n",
              "      <td>married</td>\n",
              "      <td>high.school</td>\n",
              "      <td>no</td>\n",
              "      <td>no</td>\n",
              "      <td>yes</td>\n",
              "      <td>telephone</td>\n",
              "      <td>may</td>\n",
              "      <td>mon</td>\n",
              "      <td>...</td>\n",
              "      <td>1</td>\n",
              "      <td>999</td>\n",
              "      <td>0</td>\n",
              "      <td>nonexistent</td>\n",
              "      <td>1.1</td>\n",
              "      <td>93.994</td>\n",
              "      <td>-36.4</td>\n",
              "      <td>4.857</td>\n",
              "      <td>5191.0</td>\n",
              "      <td>no</td>\n",
              "    </tr>\n",
              "  </tbody>\n",
              "</table>\n",
              "<p>5 rows × 21 columns</p>\n",
              "</div>\n",
              "    <div class=\"colab-df-buttons\">\n",
              "\n",
              "  <div class=\"colab-df-container\">\n",
              "    <button class=\"colab-df-convert\" onclick=\"convertToInteractive('df-c2bc1728-fd42-4798-9548-f382a9de7b6e')\"\n",
              "            title=\"Convert this dataframe to an interactive table.\"\n",
              "            style=\"display:none;\">\n",
              "\n",
              "  <svg xmlns=\"http://www.w3.org/2000/svg\" height=\"24px\" viewBox=\"0 -960 960 960\">\n",
              "    <path d=\"M120-120v-720h720v720H120Zm60-500h600v-160H180v160Zm220 220h160v-160H400v160Zm0 220h160v-160H400v160ZM180-400h160v-160H180v160Zm440 0h160v-160H620v160ZM180-180h160v-160H180v160Zm440 0h160v-160H620v160Z\"/>\n",
              "  </svg>\n",
              "    </button>\n",
              "\n",
              "  <style>\n",
              "    .colab-df-container {\n",
              "      display:flex;\n",
              "      gap: 12px;\n",
              "    }\n",
              "\n",
              "    .colab-df-convert {\n",
              "      background-color: #E8F0FE;\n",
              "      border: none;\n",
              "      border-radius: 50%;\n",
              "      cursor: pointer;\n",
              "      display: none;\n",
              "      fill: #1967D2;\n",
              "      height: 32px;\n",
              "      padding: 0 0 0 0;\n",
              "      width: 32px;\n",
              "    }\n",
              "\n",
              "    .colab-df-convert:hover {\n",
              "      background-color: #E2EBFA;\n",
              "      box-shadow: 0px 1px 2px rgba(60, 64, 67, 0.3), 0px 1px 3px 1px rgba(60, 64, 67, 0.15);\n",
              "      fill: #174EA6;\n",
              "    }\n",
              "\n",
              "    .colab-df-buttons div {\n",
              "      margin-bottom: 4px;\n",
              "    }\n",
              "\n",
              "    [theme=dark] .colab-df-convert {\n",
              "      background-color: #3B4455;\n",
              "      fill: #D2E3FC;\n",
              "    }\n",
              "\n",
              "    [theme=dark] .colab-df-convert:hover {\n",
              "      background-color: #434B5C;\n",
              "      box-shadow: 0px 1px 3px 1px rgba(0, 0, 0, 0.15);\n",
              "      filter: drop-shadow(0px 1px 2px rgba(0, 0, 0, 0.3));\n",
              "      fill: #FFFFFF;\n",
              "    }\n",
              "  </style>\n",
              "\n",
              "    <script>\n",
              "      const buttonEl =\n",
              "        document.querySelector('#df-c2bc1728-fd42-4798-9548-f382a9de7b6e button.colab-df-convert');\n",
              "      buttonEl.style.display =\n",
              "        google.colab.kernel.accessAllowed ? 'block' : 'none';\n",
              "\n",
              "      async function convertToInteractive(key) {\n",
              "        const element = document.querySelector('#df-c2bc1728-fd42-4798-9548-f382a9de7b6e');\n",
              "        const dataTable =\n",
              "          await google.colab.kernel.invokeFunction('convertToInteractive',\n",
              "                                                    [key], {});\n",
              "        if (!dataTable) return;\n",
              "\n",
              "        const docLinkHtml = 'Like what you see? Visit the ' +\n",
              "          '<a target=\"_blank\" href=https://colab.research.google.com/notebooks/data_table.ipynb>data table notebook</a>'\n",
              "          + ' to learn more about interactive tables.';\n",
              "        element.innerHTML = '';\n",
              "        dataTable['output_type'] = 'display_data';\n",
              "        await google.colab.output.renderOutput(dataTable, element);\n",
              "        const docLink = document.createElement('div');\n",
              "        docLink.innerHTML = docLinkHtml;\n",
              "        element.appendChild(docLink);\n",
              "      }\n",
              "    </script>\n",
              "  </div>\n",
              "\n",
              "\n",
              "<div id=\"df-ff4cf3b5-46e8-4b6b-859a-dde0015fa0c3\">\n",
              "  <button class=\"colab-df-quickchart\" onclick=\"quickchart('df-ff4cf3b5-46e8-4b6b-859a-dde0015fa0c3')\"\n",
              "            title=\"Suggest charts\"\n",
              "            style=\"display:none;\">\n",
              "\n",
              "<svg xmlns=\"http://www.w3.org/2000/svg\" height=\"24px\"viewBox=\"0 0 24 24\"\n",
              "     width=\"24px\">\n",
              "    <g>\n",
              "        <path d=\"M19 3H5c-1.1 0-2 .9-2 2v14c0 1.1.9 2 2 2h14c1.1 0 2-.9 2-2V5c0-1.1-.9-2-2-2zM9 17H7v-7h2v7zm4 0h-2V7h2v10zm4 0h-2v-4h2v4z\"/>\n",
              "    </g>\n",
              "</svg>\n",
              "  </button>\n",
              "\n",
              "<style>\n",
              "  .colab-df-quickchart {\n",
              "      --bg-color: #E8F0FE;\n",
              "      --fill-color: #1967D2;\n",
              "      --hover-bg-color: #E2EBFA;\n",
              "      --hover-fill-color: #174EA6;\n",
              "      --disabled-fill-color: #AAA;\n",
              "      --disabled-bg-color: #DDD;\n",
              "  }\n",
              "\n",
              "  [theme=dark] .colab-df-quickchart {\n",
              "      --bg-color: #3B4455;\n",
              "      --fill-color: #D2E3FC;\n",
              "      --hover-bg-color: #434B5C;\n",
              "      --hover-fill-color: #FFFFFF;\n",
              "      --disabled-bg-color: #3B4455;\n",
              "      --disabled-fill-color: #666;\n",
              "  }\n",
              "\n",
              "  .colab-df-quickchart {\n",
              "    background-color: var(--bg-color);\n",
              "    border: none;\n",
              "    border-radius: 50%;\n",
              "    cursor: pointer;\n",
              "    display: none;\n",
              "    fill: var(--fill-color);\n",
              "    height: 32px;\n",
              "    padding: 0;\n",
              "    width: 32px;\n",
              "  }\n",
              "\n",
              "  .colab-df-quickchart:hover {\n",
              "    background-color: var(--hover-bg-color);\n",
              "    box-shadow: 0 1px 2px rgba(60, 64, 67, 0.3), 0 1px 3px 1px rgba(60, 64, 67, 0.15);\n",
              "    fill: var(--button-hover-fill-color);\n",
              "  }\n",
              "\n",
              "  .colab-df-quickchart-complete:disabled,\n",
              "  .colab-df-quickchart-complete:disabled:hover {\n",
              "    background-color: var(--disabled-bg-color);\n",
              "    fill: var(--disabled-fill-color);\n",
              "    box-shadow: none;\n",
              "  }\n",
              "\n",
              "  .colab-df-spinner {\n",
              "    border: 2px solid var(--fill-color);\n",
              "    border-color: transparent;\n",
              "    border-bottom-color: var(--fill-color);\n",
              "    animation:\n",
              "      spin 1s steps(1) infinite;\n",
              "  }\n",
              "\n",
              "  @keyframes spin {\n",
              "    0% {\n",
              "      border-color: transparent;\n",
              "      border-bottom-color: var(--fill-color);\n",
              "      border-left-color: var(--fill-color);\n",
              "    }\n",
              "    20% {\n",
              "      border-color: transparent;\n",
              "      border-left-color: var(--fill-color);\n",
              "      border-top-color: var(--fill-color);\n",
              "    }\n",
              "    30% {\n",
              "      border-color: transparent;\n",
              "      border-left-color: var(--fill-color);\n",
              "      border-top-color: var(--fill-color);\n",
              "      border-right-color: var(--fill-color);\n",
              "    }\n",
              "    40% {\n",
              "      border-color: transparent;\n",
              "      border-right-color: var(--fill-color);\n",
              "      border-top-color: var(--fill-color);\n",
              "    }\n",
              "    60% {\n",
              "      border-color: transparent;\n",
              "      border-right-color: var(--fill-color);\n",
              "    }\n",
              "    80% {\n",
              "      border-color: transparent;\n",
              "      border-right-color: var(--fill-color);\n",
              "      border-bottom-color: var(--fill-color);\n",
              "    }\n",
              "    90% {\n",
              "      border-color: transparent;\n",
              "      border-bottom-color: var(--fill-color);\n",
              "    }\n",
              "  }\n",
              "</style>\n",
              "\n",
              "  <script>\n",
              "    async function quickchart(key) {\n",
              "      const quickchartButtonEl =\n",
              "        document.querySelector('#' + key + ' button');\n",
              "      quickchartButtonEl.disabled = true;  // To prevent multiple clicks.\n",
              "      quickchartButtonEl.classList.add('colab-df-spinner');\n",
              "      try {\n",
              "        const charts = await google.colab.kernel.invokeFunction(\n",
              "            'suggestCharts', [key], {});\n",
              "      } catch (error) {\n",
              "        console.error('Error during call to suggestCharts:', error);\n",
              "      }\n",
              "      quickchartButtonEl.classList.remove('colab-df-spinner');\n",
              "      quickchartButtonEl.classList.add('colab-df-quickchart-complete');\n",
              "    }\n",
              "    (() => {\n",
              "      let quickchartButtonEl =\n",
              "        document.querySelector('#df-ff4cf3b5-46e8-4b6b-859a-dde0015fa0c3 button');\n",
              "      quickchartButtonEl.style.display =\n",
              "        google.colab.kernel.accessAllowed ? 'block' : 'none';\n",
              "    })();\n",
              "  </script>\n",
              "</div>\n",
              "\n",
              "    </div>\n",
              "  </div>\n"
            ],
            "application/vnd.google.colaboratory.intrinsic+json": {
              "type": "dataframe",
              "variable_name": "df_campaign_outcome"
            }
          },
          "metadata": {},
          "execution_count": 4
        }
      ],
      "source": [
        "df_campaign_outcome.head()"
      ]
    },
    {
      "cell_type": "markdown",
      "metadata": {
        "id": "2Oavz6doaBZP"
      },
      "source": [
        "### Problem 3: Understanding the Features\n",
        "\n",
        "\n",
        "Examine the data description below, and determine if any of the features are missing values or need to be coerced to a different data type.\n",
        "\n",
        "\n",
        "```\n",
        "Input variables:\n",
        "# bank client data:\n",
        "1 - age (numeric)\n",
        "2 - job : type of job (categorical: 'admin.','blue-collar','entrepreneur','housemaid','management','retired','self-employed','services','student','technician','unemployed','unknown')\n",
        "3 - marital : marital status (categorical: 'divorced','married','single','unknown'; note: 'divorced' means divorced or widowed)\n",
        "4 - education (categorical: 'basic.4y','basic.6y','basic.9y','high.school','illiterate','professional.course','university.degree','unknown')\n",
        "5 - default: has credit in default? (categorical: 'no','yes','unknown')\n",
        "6 - housing: has housing loan? (categorical: 'no','yes','unknown')\n",
        "7 - loan: has personal loan? (categorical: 'no','yes','unknown')\n",
        "# related with the last contact of the current campaign:\n",
        "8 - contact: contact communication type (categorical: 'cellular','telephone')\n",
        "9 - month: last contact month of year (categorical: 'jan', 'feb', 'mar', ..., 'nov', 'dec')\n",
        "10 - day_of_week: last contact day of the week (categorical: 'mon','tue','wed','thu','fri')\n",
        "11 - duration: last contact duration, in seconds (numeric). Important note: this attribute highly affects the output target (e.g., if duration=0 then y='no'). Yet, the duration is not known before a call is performed. Also, after the end of the call y is obviously known. Thus, this input should only be included for benchmark purposes and should be discarded if the intention is to have a realistic predictive model.\n",
        "# other attributes:\n",
        "12 - campaign: number of contacts performed during this campaign and for this client (numeric, includes last contact)\n",
        "13 - pdays: number of days that passed by after the client was last contacted from a previous campaign (numeric; 999 means client was not previously contacted)\n",
        "14 - previous: number of contacts performed before this campaign and for this client (numeric)\n",
        "15 - poutcome: outcome of the previous marketing campaign (categorical: 'failure','nonexistent','success')\n",
        "# social and economic context attributes\n",
        "16 - emp.var.rate: employment variation rate - quarterly indicator (numeric)\n",
        "17 - cons.price.idx: consumer price index - monthly indicator (numeric)\n",
        "18 - cons.conf.idx: consumer confidence index - monthly indicator (numeric)\n",
        "19 - euribor3m: euribor 3 month rate - daily indicator (numeric)\n",
        "20 - nr.employed: number of employees - quarterly indicator (numeric)\n",
        "\n",
        "Output variable (desired target):\n",
        "21 - y - has the client subscribed a term deposit? (binary: 'yes','no')\n",
        "```\n",
        "\n"
      ]
    },
    {
      "cell_type": "code",
      "source": [
        "print(df_campaign_outcome.isnull().sum())"
      ],
      "metadata": {
        "colab": {
          "base_uri": "https://localhost:8080/"
        },
        "id": "FgQ-LBpOpjPO",
        "outputId": "dc42ffa7-df0b-4c69-ab24-ded90b5cb4dd"
      },
      "execution_count": 5,
      "outputs": [
        {
          "output_type": "stream",
          "name": "stdout",
          "text": [
            "age               0\n",
            "job               0\n",
            "marital           0\n",
            "education         0\n",
            "default           0\n",
            "housing           0\n",
            "loan              0\n",
            "contact           0\n",
            "month             0\n",
            "day_of_week       0\n",
            "duration          0\n",
            "campaign          0\n",
            "pdays             0\n",
            "previous          0\n",
            "poutcome          0\n",
            "emp.var.rate      0\n",
            "cons.price.idx    0\n",
            "cons.conf.idx     0\n",
            "euribor3m         0\n",
            "nr.employed       0\n",
            "y                 0\n",
            "dtype: int64\n"
          ]
        }
      ]
    },
    {
      "cell_type": "markdown",
      "source": [],
      "metadata": {
        "id": "cFeZvRtZpgbf"
      }
    },
    {
      "cell_type": "markdown",
      "source": [
        "1.\tWhile there are no missing values per se, several of the categorical variables have ‘unknown’ as a value, and those rows with any feature set to this value should be dropped.\n",
        "2.\tThe feature named ‘duration’ should be dropped as stated in the problem statement.\n",
        "3.\tThe datatype of the  categorical variables (job, education, marital, education,default, housing, loan, contact, month, day_of_week) should be converted to “category”\n",
        "4.\tThe datatype of the following variables should be converted to integer: age, campaign, pdays, previous\n",
        "5.\tThe datatype of the following variables should be converted to float: emp.var.rate, cons.price.idx, cons.conf.idx, euribor3m, nr.employed\n"
      ],
      "metadata": {
        "id": "bk1x4wG3pl3g"
      }
    },
    {
      "cell_type": "code",
      "execution_count": 7,
      "metadata": {
        "colab": {
          "base_uri": "https://localhost:8080/"
        },
        "id": "F1iLh1eMaBZQ",
        "outputId": "bdd3c4f8-19fb-463b-94e4-151fcd8c382f"
      },
      "outputs": [
        {
          "output_type": "stream",
          "name": "stdout",
          "text": [
            "\n",
            "Data types after preprocessing:\n",
            "age                  int64\n",
            "job               category\n",
            "marital           category\n",
            "education         category\n",
            "default           category\n",
            "housing           category\n",
            "loan              category\n",
            "contact           category\n",
            "month                int64\n",
            "day_of_week       category\n",
            "campaign             int64\n",
            "pdays                int64\n",
            "previous             int64\n",
            "poutcome          category\n",
            "emp.var.rate       float64\n",
            "cons.price.idx     float64\n",
            "cons.conf.idx      float64\n",
            "euribor3m          float64\n",
            "nr.employed        float64\n",
            "y                 category\n",
            "dtype: object\n",
            "\n",
            "Shape after dropping rows with 'unknown': (30488, 20)\n"
          ]
        }
      ],
      "source": [
        "# Preprocessing steps\n",
        "# Step 1: Replace 'unknown' with NaN and drop rows containing any NaN\n",
        "\n",
        "import numpy as np\n",
        "df_campaign_outcome.replace('unknown', np.nan, inplace=True)\n",
        "df_campaign_outcome.dropna(inplace=True)\n",
        "\n",
        "# Step 2: Drop the 'duration' column (not to be used in realistic modeling)\n",
        "df_campaign_outcome.drop(columns=['duration'], inplace=True)\n",
        "\n",
        "# Step 3: Convert all categorical columns to 'category' dtype\n",
        "categorical_cols = [\n",
        "    \"job\", \"marital\", \"education\", \"default\", \"housing\", \"loan\",\n",
        "    \"contact\", \"month\", \"day_of_week\", \"poutcome\", \"y\"\n",
        "]\n",
        "\n",
        "for col in categorical_cols:\n",
        "    df_campaign_outcome[col] = df_campaign_outcome[col].astype('category')\n",
        "\n",
        "# Step 4: Convert month names to integers (e.g., 'jan' -> 1)\n",
        "month_mapping = {\n",
        "    'jan': 1, 'feb': 2, 'mar': 3, 'apr': 4, 'may': 5, 'jun': 6,\n",
        "    'jul': 7, 'aug': 8, 'sep': 9, 'oct': 10, 'nov': 11, 'dec': 12\n",
        "}\n",
        "df_campaign_outcome['month'] = df_campaign_outcome['month'].map(month_mapping).astype(int)\n",
        "\n",
        "# Step 5: Convert specific columns to int\n",
        "df_campaign_outcome['age'] = df_campaign_outcome['age'].astype(int)\n",
        "df_campaign_outcome['campaign'] = df_campaign_outcome['campaign'].astype(int)\n",
        "df_campaign_outcome['pdays'] = df_campaign_outcome['pdays'].astype(int)\n",
        "df_campaign_outcome['previous'] = df_campaign_outcome['previous'].astype(int)\n",
        "\n",
        "# Step 6: Convert specific columns to float\n",
        "df_campaign_outcome['emp.var.rate'] = df_campaign_outcome['emp.var.rate'].astype(float)\n",
        "df_campaign_outcome['cons.price.idx'] = df_campaign_outcome['cons.price.idx'].astype(float)\n",
        "df_campaign_outcome['cons.conf.idx'] = df_campaign_outcome['cons.conf.idx'].astype(float)\n",
        "df_campaign_outcome['euribor3m'] = df_campaign_outcome['euribor3m'].astype(float)\n",
        "df_campaign_outcome['nr.employed'] = df_campaign_outcome['nr.employed'].astype(float)\n",
        "\n",
        "# Confirm changes\n",
        "print(\"\\nData types after preprocessing:\")\n",
        "print(df_campaign_outcome.dtypes)\n",
        "print(\"\\nShape after dropping rows with 'unknown':\", df_campaign_outcome.shape)"
      ]
    },
    {
      "cell_type": "markdown",
      "metadata": {
        "id": "kDSjB3adaBZR"
      },
      "source": [
        "### Problem 4: Understanding the Task\n",
        "\n",
        "After examining the description and data, your goal now is to clearly state the *Business Objective* of the task.  State the objective below."
      ]
    },
    {
      "cell_type": "code",
      "execution_count": 8,
      "metadata": {
        "colab": {
          "base_uri": "https://localhost:8080/"
        },
        "id": "3eR0ve5QaBZS",
        "outputId": "eb701321-6a2c-4fa3-9e73-b36bfdb9d2d7"
      },
      "outputs": [
        {
          "output_type": "stream",
          "name": "stdout",
          "text": [
            "<class 'pandas.core.frame.DataFrame'>\n",
            "Index: 30488 entries, 0 to 41187\n",
            "Data columns (total 20 columns):\n",
            " #   Column          Non-Null Count  Dtype   \n",
            "---  ------          --------------  -----   \n",
            " 0   age             30488 non-null  int64   \n",
            " 1   job             30488 non-null  category\n",
            " 2   marital         30488 non-null  category\n",
            " 3   education       30488 non-null  category\n",
            " 4   default         30488 non-null  category\n",
            " 5   housing         30488 non-null  category\n",
            " 6   loan            30488 non-null  category\n",
            " 7   contact         30488 non-null  category\n",
            " 8   month           30488 non-null  int64   \n",
            " 9   day_of_week     30488 non-null  category\n",
            " 10  campaign        30488 non-null  int64   \n",
            " 11  pdays           30488 non-null  int64   \n",
            " 12  previous        30488 non-null  int64   \n",
            " 13  poutcome        30488 non-null  category\n",
            " 14  emp.var.rate    30488 non-null  float64 \n",
            " 15  cons.price.idx  30488 non-null  float64 \n",
            " 16  cons.conf.idx   30488 non-null  float64 \n",
            " 17  euribor3m       30488 non-null  float64 \n",
            " 18  nr.employed     30488 non-null  float64 \n",
            " 19  y               30488 non-null  category\n",
            "dtypes: category(10), float64(5), int64(5)\n",
            "memory usage: 2.9 MB\n"
          ]
        }
      ],
      "source": [
        "df_campaign_outcome.info()"
      ]
    },
    {
      "cell_type": "markdown",
      "source": [
        "Business Objective: Given the input features which may be broadly classified into customer demographics, campaign contact details, and macro-economic variables, create a model to predict whether a given client will respond positively to the campaign and subscribe to the deposit."
      ],
      "metadata": {
        "id": "Z-PZUn-Gr2VX"
      }
    },
    {
      "cell_type": "code",
      "execution_count": null,
      "metadata": {
        "id": "mM9NNADlaBZT"
      },
      "outputs": [],
      "source": []
    },
    {
      "cell_type": "code",
      "execution_count": null,
      "metadata": {
        "id": "osDq6MWZaBZU"
      },
      "outputs": [],
      "source": []
    },
    {
      "cell_type": "markdown",
      "metadata": {
        "id": "QG4mhwb0aBZU"
      },
      "source": [
        "### Problem 5: Engineering Features\n",
        "\n",
        "Now that you understand your business objective, we will build a basic model to get started.  Before we can do this, we must work to encode the data.  Using just the bank information features, prepare the features and target column for modeling with appropriate encoding and transformations."
      ]
    },
    {
      "cell_type": "code",
      "execution_count": 9,
      "metadata": {
        "id": "ghhf8aP5aBZU"
      },
      "outputs": [],
      "source": [
        "from sklearn.model_selection import train_test_split, GridSearchCV\n",
        "from sklearn.preprocessing import StandardScaler, OneHotEncoder\n",
        "from sklearn.compose import ColumnTransformer\n",
        "from sklearn.pipeline import Pipeline\n",
        "from sklearn.linear_model import LogisticRegression\n",
        "from sklearn.neighbors import KNeighborsClassifier\n",
        "from sklearn.tree import DecisionTreeClassifier\n",
        "from sklearn.svm import SVC\n",
        "from sklearn.metrics import classification_report, roc_auc_score, accuracy_score\n",
        "from sklearn.metrics import confusion_matrix\n",
        "import warnings\n",
        "warnings.filterwarnings(\"ignore\")\n",
        "\n",
        "# Use only first 15 features and target column\n",
        "target = 'y'\n",
        "features = df_campaign_outcome.columns[:15].tolist()\n",
        "\n",
        "X = df_campaign_outcome[features]\n",
        "y = df_campaign_outcome[target].apply(lambda v: 1 if v == 'yes' else 0)  # binary encode\n",
        "\n",
        "# Define categorical and numerical columns\n",
        "categorical_feats = X.select_dtypes(include='category').columns.tolist()\n",
        "numerical_feats = X.select_dtypes(include=['int64', 'float64']).columns.tolist()\n",
        "\n",
        "# Define transformations\n",
        "preprocessor = ColumnTransformer(\n",
        "    transformers=[\n",
        "        ('num', StandardScaler(), numerical_feats),\n",
        "        ('cat', OneHotEncoder(handle_unknown='ignore'), categorical_feats)\n",
        "    ])\n"
      ]
    },
    {
      "cell_type": "code",
      "execution_count": null,
      "metadata": {
        "id": "Rj5ESP1LaBZV"
      },
      "outputs": [],
      "source": []
    },
    {
      "cell_type": "code",
      "execution_count": null,
      "metadata": {
        "id": "gMDEL7WoaBZV"
      },
      "outputs": [],
      "source": []
    },
    {
      "cell_type": "markdown",
      "metadata": {
        "id": "Kq0ZhVACaBZW"
      },
      "source": [
        "### Problem 6: Train/Test Split\n",
        "\n",
        "With your data prepared, split it into a train and test set."
      ]
    },
    {
      "cell_type": "code",
      "execution_count": 10,
      "metadata": {
        "id": "pGrD1jQvaBZW"
      },
      "outputs": [],
      "source": [
        "\n",
        "# Train/test split\n",
        "X_train, X_test, y_train, y_test = train_test_split(X, y, test_size=0.2, stratify=y, random_state=42)"
      ]
    },
    {
      "cell_type": "code",
      "execution_count": null,
      "metadata": {
        "id": "fi_IKZamaBZW"
      },
      "outputs": [],
      "source": []
    },
    {
      "cell_type": "code",
      "execution_count": null,
      "metadata": {
        "id": "hWGa_sm4aBZW"
      },
      "outputs": [],
      "source": []
    },
    {
      "cell_type": "markdown",
      "metadata": {
        "id": "CYZ7H5h8aBZX"
      },
      "source": [
        "### Problem 7: A Baseline Model\n",
        "\n",
        "Before we build our first model, we want to establish a baseline.  What is the baseline performance that our classifier should aim to beat?"
      ]
    },
    {
      "cell_type": "code",
      "execution_count": 14,
      "metadata": {
        "colab": {
          "base_uri": "https://localhost:8080/"
        },
        "id": "KnePK3qGaBZX",
        "outputId": "06c420f1-aade-4e99-bdcc-c7a44e92d8a2"
      },
      "outputs": [
        {
          "output_type": "stream",
          "name": "stdout",
          "text": [
            "Percentage distribution of target variable 'y':\n",
            "y\n",
            "no     87.34%\n",
            "yes    12.66%\n",
            "Name: proportion, dtype: object\n"
          ]
        }
      ],
      "source": [
        "# Check for Class Imbalance in the Response variable by calculating percentage distribution of each outcome in the target variable 'y'\n",
        "percentage_distribution = df_campaign_outcome['y'].value_counts(normalize=True) * 100\n",
        "\n",
        "# Display formatted output\n",
        "print(\"Percentage distribution of target variable 'y':\")\n",
        "print(percentage_distribution.round(2).astype(str) + '%')\n"
      ]
    },
    {
      "cell_type": "markdown",
      "source": [
        "Due to the highly imbalanced nature of the target variable (about 87% of all responses are \"no\"), a baseline performance model can be to **just always  predict the \"majority class\", which is \"no\"**. This should have an accuracy of atleast 85%."
      ],
      "metadata": {
        "id": "kV3wWir_x49a"
      }
    },
    {
      "cell_type": "code",
      "execution_count": null,
      "metadata": {
        "id": "kgl1LjiMaBZX"
      },
      "outputs": [],
      "source": []
    },
    {
      "cell_type": "code",
      "execution_count": null,
      "metadata": {
        "id": "RQTTh9bpaBZX"
      },
      "outputs": [],
      "source": []
    },
    {
      "cell_type": "markdown",
      "metadata": {
        "id": "-ff_WTzPaBZY"
      },
      "source": [
        "### Problem 8: A Simple Model\n",
        "\n",
        "Use Logistic Regression to build a basic model on your data.  "
      ]
    },
    {
      "cell_type": "code",
      "execution_count": 11,
      "metadata": {
        "colab": {
          "base_uri": "https://localhost:8080/"
        },
        "id": "zyGDlc53aBZY",
        "outputId": "99411968-590d-4d85-b47a-6029ea9483ea"
      },
      "outputs": [
        {
          "output_type": "stream",
          "name": "stdout",
          "text": [
            "\n",
            "Model Evaluation (Initial Scores):\n",
            "Logistic Regression  | ROC AUC: 0.7657\n",
            "KNN                  | ROC AUC: 0.6956\n",
            "Decision Tree        | ROC AUC: 0.6225\n",
            "SVM                  | ROC AUC: 0.6981\n"
          ]
        }
      ],
      "source": [
        "# Define models\n",
        "models = {\n",
        "    \"Logistic Regression\": LogisticRegression()\n",
        "\n",
        "}\n",
        "\n",
        "\n",
        "# Fit and compare models\n",
        "print(\"\\nModel Evaluation (Initial Scores):\")\n",
        "for name, model in models.items():\n",
        "    pipe = Pipeline([\n",
        "        ('preprocess', preprocessor),\n",
        "        ('clf', model)\n",
        "    ])\n",
        "    pipe.fit(X_train, y_train)\n",
        "    y_pred = pipe.predict(X_test)\n",
        "    y_proba = pipe.predict_proba(X_test)[:, 1]\n",
        "    auc = roc_auc_score(y_test, y_proba)\n",
        "    print(f\"{name:20s} | ROC AUC: {auc:.4f}\")"
      ]
    },
    {
      "cell_type": "markdown",
      "metadata": {
        "id": "RrxRFvAgaBZY"
      },
      "source": [
        "### Problem 9: Score the Model\n",
        "\n",
        "What is the accuracy of your model?"
      ]
    },
    {
      "cell_type": "markdown",
      "source": [
        "Logistic Regression  | ROC AUC: 0.7657"
      ],
      "metadata": {
        "id": "xHAVDZM1yk57"
      }
    },
    {
      "cell_type": "markdown",
      "source": [
        "* Note: The choice of the evaluation metric as **ROC Area under the Curve** is driven by the fact that the response variable exhibits a **very high degree of class imbalance**. *italicized text*"
      ],
      "metadata": {
        "id": "yJHCICB4yk5A"
      }
    },
    {
      "cell_type": "code",
      "execution_count": null,
      "metadata": {
        "id": "qK70DZVxaBZY"
      },
      "outputs": [],
      "source": []
    },
    {
      "cell_type": "markdown",
      "metadata": {
        "id": "MU3muNFEaBZY"
      },
      "source": [
        "### Problem 10: Model Comparisons\n",
        "\n",
        "Now, we aim to compare the performance of the Logistic Regression model to our KNN algorithm, Decision Tree, and SVM models.  Using the default settings for each of the models, fit and score each.  Also, be sure to compare the fit time of each of the models.  Present your findings in a `DataFrame` similar to that below:\n",
        "\n",
        "| Model | Train Time | Train Accuracy | Test Accuracy |\n",
        "| ----- | ---------- | -------------  | -----------   |\n",
        "|     |    |.     |.     |"
      ]
    },
    {
      "cell_type": "code",
      "execution_count": 16,
      "metadata": {
        "colab": {
          "base_uri": "https://localhost:8080/"
        },
        "id": "7wAZ8sDkaBZZ",
        "outputId": "af8121b4-06e5-45d5-cf8e-a672f2511921"
      },
      "outputs": [
        {
          "output_type": "stream",
          "name": "stdout",
          "text": [
            "\n",
            "=== Model Fit Times and Accuracies ===\n",
            "                 Model  Train Time  Train Accuracy  Test Accuracy\n",
            "0  Logistic Regression       0.435          0.8874         0.8823\n",
            "1                  KNN       0.133          0.9009         0.8742\n",
            "2        Decision Tree       0.230          0.9929         0.8285\n",
            "3                  SVM     345.400          0.8890         0.8834\n"
          ]
        }
      ],
      "source": [
        "# Fit and compare models\n",
        "from sklearn.base import clone\n",
        "from time import time\n",
        "\n",
        "models = {\n",
        "    \"Logistic Regression\": LogisticRegression(),\n",
        "    \"KNN\": KNeighborsClassifier(),\n",
        "    \"Decision Tree\": DecisionTreeClassifier(),\n",
        "    \"SVM\": SVC(probability=True)\n",
        "}\n",
        "\n",
        "scores = []\n",
        "\n",
        "for name, model in models.items():\n",
        "    pipe = Pipeline([\n",
        "        ('preprocess', preprocessor),\n",
        "        ('clf', clone(model))\n",
        "    ])\n",
        "    start_time = time()\n",
        "    pipe.fit(X_train, y_train)\n",
        "    end_time = time()\n",
        "    train_acc = pipe.score(X_train, y_train)\n",
        "    test_acc = pipe.score(X_test, y_test)\n",
        "    fit_time = end_time - start_time\n",
        "\n",
        "    scores.append({\n",
        "        'Model': name,\n",
        "        'Train Time': round(fit_time, 3),\n",
        "        'Train Accuracy': round(train_acc, 4),\n",
        "        'Test Accuracy': round(test_acc, 4)\n",
        "    })\n",
        "\n",
        "# Create DataFrame with model scores\n",
        "df_scores = pd.DataFrame(scores)\n",
        "print(\"\\n=== Model Fit Times and Accuracies ===\")\n",
        "print(df_scores)"
      ]
    },
    {
      "cell_type": "markdown",
      "source": [
        "Conclusion from Comparison on Test Data Accuracy:\n",
        "------------------------------------------------\n",
        "1. SVM looks most promising from an accuracy standpoint, with Logistic Regression coming in a close second.\n",
        "\n",
        "2. However,the execution time for SVM is several orders of magnitude greater than the others (3056 times longer than KNN, 794 times longer than Logistic), making it a bad candidate for GridSearchCV unless care is taken to reduce dimensionality or the number of rows.   \n",
        "\n",
        "3. Further more, the high class imbalance in the target variable 'y' is cause for pause, and to perhaps consider AUC instead, in order to focus on how well the model performs on the minority class of \"yes\"."
      ],
      "metadata": {
        "id": "KVonfACpEXaK"
      }
    },
    {
      "cell_type": "code",
      "execution_count": null,
      "metadata": {
        "id": "36S6N_fpaBZZ"
      },
      "outputs": [],
      "source": []
    },
    {
      "cell_type": "code",
      "execution_count": null,
      "metadata": {
        "id": "F64uiPk9aBZZ"
      },
      "outputs": [],
      "source": []
    },
    {
      "cell_type": "markdown",
      "metadata": {
        "id": "4LSdGfNMaBZZ"
      },
      "source": [
        "### Problem 11: Improving the Model\n",
        "\n",
        "Now that we have some basic models on the board, we want to try to improve these.  Below, we list a few things to explore in this pursuit.\n",
        "\n",
        "- More feature engineering and exploration.  For example, should we keep the gender feature?  Why or why not?\n",
        "- Hyperparameter tuning and grid search.  All of our models have additional hyperparameters to tune and explore.  For example the number of neighbors in KNN or the maximum depth of a Decision Tree.  \n",
        "- Adjust your performance metric"
      ]
    },
    {
      "cell_type": "code",
      "execution_count": 13,
      "metadata": {
        "colab": {
          "base_uri": "https://localhost:8080/"
        },
        "id": "riXAKp30aBZZ",
        "outputId": "e866783a-4581-4977-ad74-c1b6218faf96"
      },
      "outputs": [
        {
          "output_type": "stream",
          "name": "stdout",
          "text": [
            "\n",
            "Best Hyperparameters via GridSearchCV:\n",
            "\n",
            "Logistic Regression:\n",
            "Best ROC AUC: 0.7796\n",
            "Optimized Hyperparameters:\n",
            "  clf__C: 0.01\n",
            "\n",
            "KNN:\n",
            "Best ROC AUC: 0.7279\n",
            "Optimized Hyperparameters:\n",
            "  clf__n_neighbors: 7\n",
            "\n",
            "Decision Tree:\n",
            "Best ROC AUC: 0.7894\n",
            "Optimized Hyperparameters:\n",
            "  clf__max_depth: 5\n",
            "\n",
            "🏆 Best Model: Decision Tree with ROC AUC = 0.7894\n"
          ]
        }
      ],
      "source": [
        "models = {\n",
        "    \"Logistic Regression\": LogisticRegression(),\n",
        "    \"KNN\": KNeighborsClassifier(),\n",
        "    \"Decision Tree\": DecisionTreeClassifier()\n",
        "    \"SVM\": SVC(probability=True)\n",
        "}\n",
        "param_grid = {\n",
        "    \"Logistic Regression\": {'clf__C': [0.01, 0.1, 1, 10]},\n",
        "    \"KNN\": {'clf__n_neighbors': [3, 5, 7]},\n",
        "    \"Decision Tree\": {'clf__max_depth': [3, 5, 10]},\n",
        "    \"SVM\": {'clf__C': [0.1, 1, 10], 'clf__kernel': ['linear', 'rbf']}\n",
        "}\n",
        "\n",
        "best_scores = {}\n",
        "print(\"\\nBest Hyperparameters via GridSearchCV:\")\n",
        "for name, model in models.items():\n",
        "    pipe = Pipeline([\n",
        "        ('preprocess', preprocessor),\n",
        "        ('clf', model)\n",
        "    ])\n",
        "    grid = GridSearchCV(pipe, param_grid[name], cv=5, scoring='roc_auc', n_jobs=-1)\n",
        "    grid.fit(X_train, y_train)\n",
        "    best_scores[name] = (grid.best_score_, grid.best_params_)\n",
        "    print(f\"\\n{name}:\")\n",
        "    print(f\"Best ROC AUC: {grid.best_score_:.4f}\")\n",
        "    #print(\"Best Params:\", grid.best_params_)\n",
        "    print(\"Optimized Hyperparameters:\")\n",
        "    for param, value in grid.best_params_.items():\n",
        "        print(f\"  {param}: {value}\")\n",
        "\n",
        "\n",
        "# Report best model\n",
        "best_model = max(best_scores.items(), key=lambda x: x[1][0])\n",
        "print(f\"\\n🏆 Best Model: {best_model[0]} with ROC AUC = {best_model[1][0]:.4f}\")\n"
      ]
    },
    {
      "cell_type": "code",
      "execution_count": null,
      "metadata": {
        "id": "2MtxWSfEaBZa"
      },
      "outputs": [],
      "source": []
    },
    {
      "cell_type": "code",
      "execution_count": null,
      "metadata": {
        "id": "NA35J0NlaBZa"
      },
      "outputs": [],
      "source": []
    },
    {
      "cell_type": "code",
      "execution_count": null,
      "metadata": {
        "id": "S-vKVaeFaBZa"
      },
      "outputs": [],
      "source": []
    },
    {
      "cell_type": "code",
      "execution_count": null,
      "metadata": {
        "id": "29SXnKK4aBZs"
      },
      "outputs": [],
      "source": []
    },
    {
      "cell_type": "code",
      "execution_count": null,
      "metadata": {
        "id": "xbEnc2AeaBZs"
      },
      "outputs": [],
      "source": []
    },
    {
      "cell_type": "code",
      "execution_count": null,
      "metadata": {
        "id": "FBjAjKPvaBZs"
      },
      "outputs": [],
      "source": []
    },
    {
      "cell_type": "code",
      "execution_count": null,
      "metadata": {
        "id": "KEtnCYLmaBZt"
      },
      "outputs": [],
      "source": []
    },
    {
      "cell_type": "code",
      "execution_count": null,
      "metadata": {
        "id": "9cmjwzAQaBZt"
      },
      "outputs": [],
      "source": []
    },
    {
      "cell_type": "code",
      "execution_count": null,
      "metadata": {
        "id": "M3xrLlyRaBZt"
      },
      "outputs": [],
      "source": []
    },
    {
      "cell_type": "code",
      "execution_count": null,
      "metadata": {
        "id": "T6nsKJabaBZu"
      },
      "outputs": [],
      "source": []
    },
    {
      "cell_type": "markdown",
      "metadata": {
        "id": "wgATNacxaBZu"
      },
      "source": [
        "##### Questions"
      ]
    }
  ],
  "metadata": {
    "kernelspec": {
      "display_name": "Python 3",
      "language": "python",
      "name": "python3"
    },
    "language_info": {
      "codemirror_mode": {
        "name": "ipython",
        "version": 3
      },
      "file_extension": ".py",
      "mimetype": "text/x-python",
      "name": "python",
      "nbconvert_exporter": "python",
      "pygments_lexer": "ipython3",
      "version": "3.8.8"
    },
    "colab": {
      "provenance": []
    }
  },
  "nbformat": 4,
  "nbformat_minor": 0
}